{
 "cells": [
  {
   "cell_type": "markdown",
   "metadata": {},
   "source": [
    "<h1>KMZ to KML Processing</h1>\n",
    "<h3>This process iterates through a directory of KMZ files and converts them to directories, each containing a KML file.</h3>\n",
    "\n",
    " Adapted from MKRGEO's solution found [here](https://www.mkrgeo-blog.com/kmz-to-kml-quick-conversion-with-python/ \"KMZ to KML - quick coversion with Python\")."
   ]
  },
  {
   "cell_type": "code",
   "execution_count": 1,
   "metadata": {},
   "outputs": [],
   "source": [
    "from kmz2zip import kmz2zip\n",
    "from unzip import unzip\n",
    "from removeZipDir import removeZipDir\n",
    "from renameKML import renameKML\n",
    "\n",
    "myPath = r\"C:\\Path\\to\\directory\\of\\KMZfiles\"\n",
    "\n",
    "kmz2zip(myPath)\n",
    "unzip(myPath)\n",
    "removeZipDir(myPath)\n",
    "renameKML(myPath)"
   ]
  }
 ],
 "metadata": {
  "interpreter": {
   "hash": "4a785c7a5f12211b352db96a5162e48a7dea6bb97627a64d540c9a28011b908d"
  },
  "kernelspec": {
   "display_name": "Python 3.8.12 ('geopy38')",
   "language": "python",
   "name": "python3"
  },
  "language_info": {
   "codemirror_mode": {
    "name": "ipython",
    "version": 3
   },
   "file_extension": ".py",
   "mimetype": "text/x-python",
   "name": "python",
   "nbconvert_exporter": "python",
   "pygments_lexer": "ipython3",
   "version": "3.8.12"
  },
  "orig_nbformat": 4
 },
 "nbformat": 4,
 "nbformat_minor": 2
}
